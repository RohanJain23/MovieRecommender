{
 "cells": [
  {
   "cell_type": "code",
   "execution_count": 68,
   "id": "c83078a1-6672-4876-ba77-b316f9ad191a",
   "metadata": {},
   "outputs": [],
   "source": [
    "# Importing Pandas and Numpy libraries\n",
    "\n",
    "import pandas as pd\n",
    "import numpy as np"
   ]
  },
  {
   "cell_type": "code",
   "execution_count": 69,
   "id": "6bc74e93-f86b-47a8-b2b0-3fcd7ead158a",
   "metadata": {},
   "outputs": [],
   "source": [
    "# Importing necessary files\n",
    "\n",
    "df_movies = pd.read_csv(r\"C:\\Users\\rjtg2\\OneDrive\\Desktop\\Rohan\\IIT INDORE\\GDSC\\Inductions\\tmdb_5000_movies.csv\")\n",
    "df_credits = pd.read_csv(r\"C:\\Users\\rjtg2\\OneDrive\\Desktop\\Rohan\\IIT INDORE\\GDSC\\Inductions\\tmdb_5000_credits.csv\")"
   ]
  },
  {
   "cell_type": "code",
   "execution_count": 70,
   "id": "9e553e02-a5a5-4e37-9306-2f40aafc0b9a",
   "metadata": {},
   "outputs": [],
   "source": [
    "# Creating dataframe and filtering out unwanted columns (Taking the ones that are required)\n",
    "\n",
    "df = df_movies.merge(df_credits)\n",
    "df = df[['movie_id', 'title', 'overview', 'genres', 'keywords', 'cast']]"
   ]
  },
  {
   "cell_type": "code",
   "execution_count": 71,
   "id": "7167bd10-13b4-4b16-b0eb-25198e3478f9",
   "metadata": {},
   "outputs": [
    {
     "data": {
      "text/plain": [
       "movie_id    0\n",
       "title       0\n",
       "overview    3\n",
       "genres      0\n",
       "keywords    0\n",
       "cast        0\n",
       "dtype: int64"
      ]
     },
     "execution_count": 71,
     "metadata": {},
     "output_type": "execute_result"
    }
   ],
   "source": [
    "# Checking for null values\n",
    "\n",
    "df.isnull().sum()"
   ]
  },
  {
   "cell_type": "code",
   "execution_count": 72,
   "id": "fe09eb50-1fea-4404-9b98-369113a73d6a",
   "metadata": {},
   "outputs": [
    {
     "data": {
      "text/plain": [
       "0"
      ]
     },
     "execution_count": 72,
     "metadata": {},
     "output_type": "execute_result"
    }
   ],
   "source": [
    "# Filtering out null values\n",
    "\n",
    "df = df.dropna()\n",
    "df.duplicated().sum()"
   ]
  },
  {
   "cell_type": "code",
   "execution_count": 73,
   "id": "fff82552-25c2-45e3-8bc6-19ba5c79688d",
   "metadata": {},
   "outputs": [],
   "source": [
    "# Creating a function (With an empty list) that brings elements of a column into a proper, required format \n",
    "\n",
    "import ast\n",
    "def convert(obj):\n",
    "    L = []\n",
    "    for i in ast.literal_eval(obj):\n",
    "        L.append(i['name'])\n",
    "    return L\n",
    "\n",
    "# Creating a function (With an empty list) that brings elements of a column into a proper, required format, but only for the first five objects\n",
    "\n",
    "def convert5(obj):\n",
    "    L = []\n",
    "    counter = 0\n",
    "    for i in ast.literal_eval(obj):\n",
    "        if counter != 5:\n",
    "            L.append(i['name'])\n",
    "            counter += 1\n",
    "        else:\n",
    "            break\n",
    "    return L\n",
    "\n",
    "# Creating a function (With an empty list) that applies \n",
    "\n",
    "# def fetch_director(obj):\n",
    "#     L = []\n",
    "#     for i in ast.literal_eval(obj):\n",
    "#         if i['job'] == 'Director':\n",
    "#             L.append(i['name'])\n",
    "#             break\n",
    "#         return L\n"
   ]
  },
  {
   "cell_type": "code",
   "execution_count": 74,
   "id": "2dae788d-6a4f-4b2b-91a4-40c44a32404a",
   "metadata": {},
   "outputs": [],
   "source": [
    "# Applies the previous functions to the different features\n",
    "\n",
    "df['genres'] = df['genres'].apply(convert)\n",
    "df['keywords'] = df['keywords'].apply(convert)\n",
    "df['cast'] = df['cast'].apply(convert5)\n",
    "# df['crew'] = df['crew'].apply(fetch_director)\n",
    "\n",
    "df['overview'] = df['overview'].apply(lambda x: x.split())"
   ]
  },
  {
   "cell_type": "code",
   "execution_count": 75,
   "id": "9c4fd7f0-1c81-4bbf-9b16-081447be64dd",
   "metadata": {},
   "outputs": [],
   "source": [
    "# Changing the elements of different columns such that there is no spacing in between words of each feature.\n",
    "\n",
    "df['genres'] = df['genres'].apply(lambda x: [i.replace(\" \", \"\") for i in x])\n",
    "df['keywords'] = df['keywords'].apply(lambda x: [i.replace(\" \", \"\") for i in x])\n",
    "df['cast'] = df['cast'].apply(lambda x: [i.replace(\" \", \"\") for i in x])\n",
    "# df['crew'] = df['crew'].apply(lambda x: [i.replace(\" \", \"\") for i in x])"
   ]
  },
  {
   "cell_type": "code",
   "execution_count": 76,
   "id": "a610c819-de6f-4815-a2ce-9dc2c54c553b",
   "metadata": {},
   "outputs": [
    {
     "name": "stderr",
     "output_type": "stream",
     "text": [
      "C:\\Users\\rjtg2\\AppData\\Local\\Temp\\ipykernel_21512\\1589627104.py:8: SettingWithCopyWarning: \n",
      "A value is trying to be set on a copy of a slice from a DataFrame.\n",
      "Try using .loc[row_indexer,col_indexer] = value instead\n",
      "\n",
      "See the caveats in the documentation: https://pandas.pydata.org/pandas-docs/stable/user_guide/indexing.html#returning-a-view-versus-a-copy\n",
      "  df_new['tags'] = df_new['tags'].apply(lambda x: \" \".join(x))\n",
      "C:\\Users\\rjtg2\\AppData\\Local\\Temp\\ipykernel_21512\\1589627104.py:12: SettingWithCopyWarning: \n",
      "A value is trying to be set on a copy of a slice from a DataFrame.\n",
      "Try using .loc[row_indexer,col_indexer] = value instead\n",
      "\n",
      "See the caveats in the documentation: https://pandas.pydata.org/pandas-docs/stable/user_guide/indexing.html#returning-a-view-versus-a-copy\n",
      "  df_new['tags'] = df_new['tags'].apply(lambda x: x.lower())\n"
     ]
    }
   ],
   "source": [
    "# Merging different column elements and creating a new dataframe \n",
    "\n",
    "df['tags'] = df['overview'] + df['genres'] + df['keywords'] + df['cast']\n",
    "df_new = df[['movie_id', 'title', 'tags']]\n",
    "\n",
    "# \n",
    "\n",
    "df_new['tags'] = df_new['tags'].apply(lambda x: \" \".join(x))\n",
    "\n",
    "# Transforms all letters of tags column to lower case \n",
    "\n",
    "df_new['tags'] = df_new['tags'].apply(lambda x: x.lower())"
   ]
  },
  {
   "cell_type": "code",
   "execution_count": 77,
   "id": "9a67050f-0820-4d9f-9546-9d5a2878d851",
   "metadata": {},
   "outputs": [],
   "source": [
    "# importing library to reduce words to their base forms\n",
    "\n",
    "import nltk\n",
    "from nltk.stem.porter import PorterStemmer\n",
    "ps = PorterStemmer()"
   ]
  },
  {
   "cell_type": "code",
   "execution_count": 78,
   "id": "c3a8d879-661c-4c65-8ef4-bb89e559e556",
   "metadata": {},
   "outputs": [],
   "source": [
    "# Creating a function to convert words to their base forms\n",
    "\n",
    "def reduce(text):\n",
    "    y = []\n",
    "\n",
    "    for i in text.split():\n",
    "        y.append(ps.stem(i))\n",
    "\n",
    "    return \" \".join(y)"
   ]
  },
  {
   "cell_type": "code",
   "execution_count": 79,
   "id": "54a4daf5-9522-4db1-be30-162af0f7871b",
   "metadata": {},
   "outputs": [
    {
     "name": "stderr",
     "output_type": "stream",
     "text": [
      "C:\\Users\\rjtg2\\AppData\\Local\\Temp\\ipykernel_21512\\2763785943.py:3: SettingWithCopyWarning: \n",
      "A value is trying to be set on a copy of a slice from a DataFrame.\n",
      "Try using .loc[row_indexer,col_indexer] = value instead\n",
      "\n",
      "See the caveats in the documentation: https://pandas.pydata.org/pandas-docs/stable/user_guide/indexing.html#returning-a-view-versus-a-copy\n",
      "  df_new['tags'] = df_new['tags'].apply(reduce)\n"
     ]
    }
   ],
   "source": [
    "# Reducing words of the column 'tags' to their base forms\n",
    "\n",
    "df_new['tags'] = df_new['tags'].apply(reduce)"
   ]
  },
  {
   "cell_type": "code",
   "execution_count": 80,
   "id": "f2e70ebb-5077-4983-bd32-0fc39d4c0511",
   "metadata": {},
   "outputs": [],
   "source": [
    "# Imports a library to create multi-dimensional vectors\n",
    "\n",
    "from sklearn.feature_extraction.text import CountVectorizer\n",
    "\n",
    "# Creates a vector with 5000 columns\n",
    "\n",
    "cv = CountVectorizer(max_features = 5000, stop_words = 'english')"
   ]
  },
  {
   "cell_type": "code",
   "execution_count": 81,
   "id": "bafaf9e6-1ec1-4db0-ac04-039f62c7e693",
   "metadata": {},
   "outputs": [
    {
     "data": {
      "text/plain": [
       "array([[0, 0, 0, ..., 0, 0, 0],\n",
       "       [0, 0, 0, ..., 0, 0, 0],\n",
       "       [0, 0, 0, ..., 0, 0, 0],\n",
       "       ...,\n",
       "       [0, 0, 0, ..., 0, 0, 0],\n",
       "       [0, 0, 0, ..., 0, 0, 0],\n",
       "       [0, 0, 0, ..., 0, 0, 0]], dtype=int64)"
      ]
     },
     "execution_count": 81,
     "metadata": {},
     "output_type": "execute_result"
    }
   ],
   "source": [
    "# Creates a two dimmensional matrix representing how many times the 5000 most common words are used each time in a movie description \n",
    "\n",
    "vectors = cv.fit_transform(df_new['tags']).toarray()\n",
    "vectors"
   ]
  },
  {
   "cell_type": "code",
   "execution_count": 82,
   "id": "b847f606-4b70-4c79-864c-965b5c19fa1b",
   "metadata": {},
   "outputs": [
    {
     "data": {
      "text/plain": [
       "array([0.08111071, 1.        , 0.05892557, ..., 0.02311251, 0.        ,\n",
       "       0.02512595])"
      ]
     },
     "execution_count": 82,
     "metadata": {},
     "output_type": "execute_result"
    }
   ],
   "source": [
    "# Creating an array in a multidimensional space that represents the similarity between two movies by somewhat calculating distance between the two vectors\n",
    "\n",
    "from sklearn.metrics.pairwise import cosine_similarity\n",
    "similarity = cosine_similarity(vectors)\n",
    "similarity[1]"
   ]
  },
  {
   "cell_type": "code",
   "execution_count": 83,
   "id": "c46c778a-99f0-4c50-9601-662bfe4194d5",
   "metadata": {},
   "outputs": [],
   "source": [
    "def recommend(movie):\n",
    "    index = df_new[df_new['title'] == movie].index[0]\n",
    "    distances = similarity[index]\n",
    "    movies_list = sorted(list(enumerate(distances)), reverse = True, key = lambda x: x[1])[1:6]\n",
    "\n",
    "    for i in movies_list:\n",
    "        print(df_new.iloc[i[0]].title)"
   ]
  },
  {
   "cell_type": "code",
   "execution_count": 90,
   "id": "6a67a6cc-5db8-4e24-a76d-69250d6c57e2",
   "metadata": {},
   "outputs": [],
   "source": [
    "import pickle\n",
    "pickle.dump(df_new, open('movies.pkl', 'wb'))\n",
    "pickle.dump(similarity, open('similarity.pkl', 'wb'))"
   ]
  },
  {
   "cell_type": "code",
   "execution_count": null,
   "id": "dd8f79c1-1bb6-463b-9e4b-20b58a03465f",
   "metadata": {},
   "outputs": [],
   "source": []
  },
  {
   "cell_type": "code",
   "execution_count": null,
   "id": "ecd8e105-b150-43a8-b808-67edf508620b",
   "metadata": {},
   "outputs": [],
   "source": []
  }
 ],
 "metadata": {
  "kernelspec": {
   "display_name": "Python 3 (ipykernel)",
   "language": "python",
   "name": "python3"
  },
  "language_info": {
   "codemirror_mode": {
    "name": "ipython",
    "version": 3
   },
   "file_extension": ".py",
   "mimetype": "text/x-python",
   "name": "python",
   "nbconvert_exporter": "python",
   "pygments_lexer": "ipython3",
   "version": "3.12.4"
  }
 },
 "nbformat": 4,
 "nbformat_minor": 5
}
